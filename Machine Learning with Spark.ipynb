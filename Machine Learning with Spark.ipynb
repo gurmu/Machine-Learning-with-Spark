{
 "cells": [
  {
   "cell_type": "markdown",
   "metadata": {},
   "source": [
    "<h1><Center> Machine Learning with Spark</Center></h1>"
   ]
  },
  {
   "cell_type": "markdown",
   "metadata": {},
   "source": [
    "# Lesson Goals\n",
    "In this lesson we will develop machine learning model with PySpark. I will create a classification model and a regression model using Pipelines.\n",
    "\n",
    "# Prerequests \n",
    "  1. install Apache Spark\n",
    "  2. Install Anaconda\n",
    "  \n",
    "  NB:make sure Jupyter Notebook and Spark running"
   ]
  },
  {
   "cell_type": "code",
   "execution_count": 1,
   "metadata": {
    "_cell_guid": "b1076dfc-b9ad-4769-8c92-a6c4dae69d19",
    "_uuid": "8f2839f25d086af736a60e9eeb907d3b93b6e0e5",
    "collapsed": true
   },
   "outputs": [
    {
     "ename": "FileNotFoundError",
     "evalue": "[WinError 3] The system cannot find the path specified: '../input'",
     "output_type": "error",
     "traceback": [
      "\u001b[1;31m---------------------------------------------------------------------------\u001b[0m",
      "\u001b[1;31mFileNotFoundError\u001b[0m                         Traceback (most recent call last)",
      "\u001b[1;32m<ipython-input-1-677e5b8b0f88>\u001b[0m in \u001b[0;36m<module>\u001b[1;34m\u001b[0m\n\u001b[0;32m     10\u001b[0m \u001b[1;33m\u001b[0m\u001b[0m\n\u001b[0;32m     11\u001b[0m \u001b[1;32mimport\u001b[0m \u001b[0mos\u001b[0m\u001b[1;33m\u001b[0m\u001b[1;33m\u001b[0m\u001b[0m\n\u001b[1;32m---> 12\u001b[1;33m \u001b[0mprint\u001b[0m\u001b[1;33m(\u001b[0m\u001b[0mos\u001b[0m\u001b[1;33m.\u001b[0m\u001b[0mlistdir\u001b[0m\u001b[1;33m(\u001b[0m\u001b[1;34m\"../input\"\u001b[0m\u001b[1;33m)\u001b[0m\u001b[1;33m)\u001b[0m\u001b[1;33m\u001b[0m\u001b[1;33m\u001b[0m\u001b[0m\n\u001b[0m\u001b[0;32m     13\u001b[0m \u001b[1;33m\u001b[0m\u001b[0m\n\u001b[0;32m     14\u001b[0m \u001b[1;31m# Any results you write to the current directory are saved as output.\u001b[0m\u001b[1;33m\u001b[0m\u001b[1;33m\u001b[0m\u001b[1;33m\u001b[0m\u001b[0m\n",
      "\u001b[1;31mFileNotFoundError\u001b[0m: [WinError 3] The system cannot find the path specified: '../input'"
     ]
    }
   ],
   "source": [
    "# This Python 3 environment comes with many helpful analytics libraries installed\n",
    "# It is defined by the kaggle/python docker image: https://github.com/kaggle/docker-python\n",
    "# For example, here's several helpful packages to load in \n",
    "\n",
    "import numpy as np # linear algebra\n",
    "import pandas as pd # data processing, CSV file I/O (e.g. pd.read_csv)\n",
    "\n",
    "# Input data files are available in the \"../input/\" directory.\n",
    "# For example, running this (by clicking run or pressing Shift+Enter) will list the files in the input directory\n",
    "\n",
    "import os\n",
    "print(os.listdir(\"../input\"))\n",
    "\n",
    "# Any results you write to the current directory are saved as output."
   ]
  },
  {
   "cell_type": "markdown",
   "metadata": {},
   "source": [
    "### Import Spark SQL and Spark ML Libraries\n",
    "\n",
    "We'll train a **LogisticRegression** model with a **Pipleline** preparing the data, a **CrossValidator** to tuene the parameters of the model, and a **BinaryClassificationEvaluator** to evaluate our trained model."
   ]
  },
  {
   "cell_type": "code",
   "execution_count": null,
   "metadata": {},
   "outputs": [],
   "source": [
    "from pyspark.sql.types import *\n",
    "from pyspark.sql.functions import *\n",
    "from pyspark.sql import SparkSession\n",
    "\n",
    "from pyspark.ml import Pipeline\n",
    "#from pyspark.ml.classification import DecisionTreeClassifier\n",
    "from pyspark.ml.feature import VectorAssembler, StringIndexer, VectorIndexer, MinMaxScaler\n",
    "from pyspark.ml.classification import LogisticRegression\n",
    "from pyspark.ml.tuning import ParamGridBuilder, CrossValidator\n",
    "from pyspark.ml.evaluation import BinaryClassificationEvaluator\n",
    "\n",
    "spark = SparkSession.builder.master(\"local[*]\").getOrCreate()"
   ]
  },
  {
   "cell_type": "markdown",
   "metadata": {},
   "source": [
    "### Load Source Data\n",
    "The data from the flight.csv file data includes specific characteristics (or features) for each flight, as well as a column indicating how many minutes late or early the flight arrived."
   ]
  },
  {
   "cell_type": "code",
   "execution_count": null,
   "metadata": {},
   "outputs": [],
   "source": [
    "csv = spark.read.csv('../input/flights.csv', inferSchema=True, header=True)\n",
    "csv.show(10)"
   ]
  },
  {
   "cell_type": "markdown",
   "metadata": {},
   "source": [
    "### Prepare the Data for a Classification Model (Decision Tree Learning Model)\n",
    "I select a subset of columns to use as features and create a Boolean label field named *label* with values 1 or 0. Specifically, **1** for flight that arrived late, **0** for flight was early or on-time."
   ]
  },
  {
   "cell_type": "code",
   "execution_count": null,
   "metadata": {},
   "outputs": [],
   "source": [
    "data = csv.select(\"DayofMonth\", \"DayOfWeek\", \"Carrier\", \"OriginAirportID\", \"DestAirportID\", \"DepDelay\", ((col(\"ArrDelay\") > 15).cast(\"Int\").alias(\"label\")))\n",
    "data.show(10)"
   ]
  },
  {
   "cell_type": "markdown",
   "metadata": {},
   "source": [
    "### Split the Data\n",
    "\n",
    "I will use 70% of the data for training, and reserve 30% for testing. In the testing data, the *label* column is renamed to *trueLabel* so I can use it later to compare predicted labels with known actual values."
   ]
  },
  {
   "cell_type": "code",
   "execution_count": null,
   "metadata": {},
   "outputs": [],
   "source": [
    "splits = data.randomSplit([0.7, 0.3])\n",
    "train = splits[0]\n",
    "test = splits[1].withColumnRenamed(\"label\", \"trueLabel\")\n",
    "train_rows = train.count()\n",
    "test_rows = test.count()\n",
    "print(\"Training Rows:\", train_rows, \" Testing Rows:\", test_rows)"
   ]
  },
  {
   "cell_type": "markdown",
   "metadata": {},
   "source": [
    "### Define the Pipeline\n",
    "\n",
    "A pipeline consists of a series of transformer and estimator stages that typically prepare a DataFrame for modeling and then train a predictive model. In this case, you will create a pipeline with seven stages:\n",
    "* A **StringIndexer estimator** that converts string values to indexes for categorical features\n",
    "* A **VectorAssembler** that combines categorical features into a single vector\n",
    "* A **VectorIndexer** that creates indexes for a vector of categorical features\n",
    "* A **VectorAssembler** that creates a vector of continuous numeric features\n",
    "* A **MinMaxScaler** that normalizes continuous numeric features\n",
    "* A **VectorAssembler** that creates a vector of categorical and continuous features\n",
    "* A **DecisionTreeClassifier** that trains a classification model."
   ]
  },
  {
   "cell_type": "code",
   "execution_count": null,
   "metadata": {},
   "outputs": [],
   "source": [
    "strIdx = StringIndexer(inputCol = \"Carrier\", outputCol = \"CarrierIdx\")\n",
    "catVect = VectorAssembler(inputCols = [\"CarrierIdx\", \"DayofMonth\", \"DayOfWeek\", \"OriginAirportID\", \"DestAirportID\"], outputCol=\"catFeatures\")\n",
    "catIdx = VectorIndexer(inputCol = catVect.getOutputCol(), outputCol = \"idxCatFeatures\")\n",
    "numVect = VectorAssembler(inputCols = [\"DepDelay\"], outputCol=\"numFeatures\")\n",
    "minMax = MinMaxScaler(inputCol = numVect.getOutputCol(), outputCol=\"normFeatures\")\n",
    "featVect = VectorAssembler(inputCols=[\"idxCatFeatures\", \"normFeatures\"], outputCol=\"features\")\n",
    "lr = LogisticRegression(labelCol=\"label\",featuresCol=\"features\",maxIter=10,regParam=0.3)\n",
    "#dt = DecisionTreeClassifier(labelCol=\"label\", featuresCol=\"features\")\n",
    "pipeline = Pipeline(stages=[strIdx, catVect, catIdx, numVect, minMax, featVect, lr])"
   ]
  },
  {
   "cell_type": "markdown",
   "metadata": {},
   "source": [
    "### Run the Pipeline to train a model\n",
    "Run the pipeline as an Estimator on the training data to train a model."
   ]
  },
  {
   "cell_type": "code",
   "execution_count": null,
   "metadata": {},
   "outputs": [],
   "source": [
    "piplineModel = pipeline.fit(train)"
   ]
  },
  {
   "cell_type": "markdown",
   "metadata": {},
   "source": [
    "### Generate label predictions\n",
    "Transform the test data with all of the stages and the trained model in the pipeline to generate label predictions."
   ]
  },
  {
   "cell_type": "code",
   "execution_count": 7,
   "metadata": {},
   "outputs": [
    {
     "name": "stdout",
     "output_type": "stream",
     "text": [
      "+---------------------------------------------------+----------+---------+\n",
      "|features                                           |prediction|trueLabel|\n",
      "+---------------------------------------------------+----------+---------+\n",
      "|[10.0,1.0,0.0,10397.0,12191.0,0.03016120644825793] |0.0       |0        |\n",
      "|[10.0,1.0,0.0,10397.0,12264.0,0.02860114404576183] |0.0       |0        |\n",
      "|[10.0,1.0,0.0,10423.0,11433.0,0.03848153926157046] |0.0       |1        |\n",
      "|[10.0,1.0,0.0,10423.0,13487.0,0.029121164846593862]|0.0       |0        |\n",
      "|[10.0,1.0,0.0,10529.0,11193.0,0.02860114404576183] |0.0       |0        |\n",
      "|[10.0,1.0,0.0,10529.0,11193.0,0.050442017680707225]|0.0       |1        |\n",
      "|[10.0,1.0,0.0,10693.0,11433.0,0.028081123244929798]|0.0       |0        |\n",
      "|[10.0,1.0,0.0,10693.0,12478.0,0.12220488819552783] |1.0       |1        |\n",
      "|[10.0,1.0,0.0,10721.0,11193.0,0.029121164846593862]|0.0       |0        |\n",
      "|[10.0,1.0,0.0,10721.0,12478.0,0.029641185647425898]|0.0       |1        |\n",
      "|[10.0,1.0,0.0,10721.0,12478.0,0.031721268850754034]|0.0       |0        |\n",
      "|[10.0,1.0,0.0,10721.0,12478.0,0.03536141445657826] |0.0       |1        |\n",
      "|[10.0,1.0,0.0,10721.0,13931.0,0.04004160166406656] |0.0       |0        |\n",
      "|[10.0,1.0,0.0,10792.0,11433.0,0.0265210608424337]  |0.0       |0        |\n",
      "|[10.0,1.0,0.0,10792.0,11433.0,0.0343213728549142]  |0.0       |0        |\n",
      "|[10.0,1.0,0.0,10821.0,11193.0,0.055122204888195525]|0.0       |1        |\n",
      "|[10.0,1.0,0.0,10821.0,11193.0,0.16328653146125846] |1.0       |1        |\n",
      "|[10.0,1.0,0.0,10821.0,12478.0,0.026001040041601663]|0.0       |0        |\n",
      "|[10.0,1.0,0.0,10821.0,12478.0,0.028081123244929798]|0.0       |1        |\n",
      "|[10.0,1.0,0.0,10821.0,12478.0,0.031201248049921998]|0.0       |0        |\n",
      "|[10.0,1.0,0.0,10821.0,13487.0,0.030681227249089962]|0.0       |0        |\n",
      "|[10.0,1.0,0.0,10821.0,14492.0,0.027561102444097763]|0.0       |0        |\n",
      "|[10.0,1.0,0.0,10821.0,14492.0,0.02860114404576183] |0.0       |0        |\n",
      "|[10.0,1.0,0.0,11042.0,11433.0,0.02860114404576183] |0.0       |0        |\n",
      "|[10.0,1.0,0.0,11042.0,13487.0,0.0265210608424337]  |0.0       |0        |\n",
      "|[10.0,1.0,0.0,11057.0,12478.0,0.047321892875715026]|0.0       |1        |\n",
      "|[10.0,1.0,0.0,11057.0,12478.0,0.08528341133645345] |0.0       |1        |\n",
      "|[10.0,1.0,0.0,11066.0,12478.0,0.0811232449297972]  |0.0       |1        |\n",
      "|[10.0,1.0,0.0,11066.0,13487.0,0.02860114404576183] |0.0       |0        |\n",
      "|[10.0,1.0,0.0,11066.0,14492.0,0.03016120644825793] |0.0       |0        |\n",
      "|[10.0,1.0,0.0,11193.0,10529.0,0.03016120644825793] |0.0       |0        |\n",
      "|[10.0,1.0,0.0,11193.0,10721.0,0.029641185647425898]|0.0       |0        |\n",
      "|[10.0,1.0,0.0,11193.0,10721.0,0.031201248049921998]|0.0       |0        |\n",
      "|[10.0,1.0,0.0,11193.0,10721.0,0.037961518460738426]|0.0       |0        |\n",
      "|[10.0,1.0,0.0,11193.0,10821.0,0.02704108164326573] |0.0       |0        |\n",
      "|[10.0,1.0,0.0,11193.0,11057.0,0.02704108164326573] |0.0       |0        |\n",
      "|[10.0,1.0,0.0,11193.0,11057.0,0.031721268850754034]|0.0       |0        |\n",
      "|[10.0,1.0,0.0,11193.0,11057.0,0.06188247529901196] |0.0       |1        |\n",
      "|[10.0,1.0,0.0,11193.0,11278.0,0.10816432657306292] |1.0       |1        |\n",
      "|[10.0,1.0,0.0,11193.0,11433.0,0.02860114404576183] |0.0       |0        |\n",
      "|[10.0,1.0,0.0,11193.0,11433.0,0.029121164846593862]|0.0       |0        |\n",
      "|[10.0,1.0,0.0,11193.0,11433.0,0.029641185647425898]|0.0       |0        |\n",
      "|[10.0,1.0,0.0,11193.0,11433.0,0.03016120644825793] |0.0       |0        |\n",
      "|[10.0,1.0,0.0,11193.0,11618.0,0.06292251690067603] |0.0       |1        |\n",
      "|[10.0,1.0,0.0,11193.0,12478.0,0.031201248049921998]|0.0       |0        |\n",
      "|[10.0,1.0,0.0,11193.0,13198.0,0.0390015600624025]  |0.0       |0        |\n",
      "|[10.0,1.0,0.0,11193.0,13342.0,0.059802392095683825]|0.0       |1        |\n",
      "|[10.0,1.0,0.0,11193.0,13487.0,0.028081123244929798]|0.0       |0        |\n",
      "|[10.0,1.0,0.0,11193.0,13487.0,0.029641185647425898]|0.0       |0        |\n",
      "|[10.0,1.0,0.0,11193.0,13487.0,0.13364534581383256] |1.0       |1        |\n",
      "|[10.0,1.0,0.0,11193.0,13930.0,0.028081123244929798]|0.0       |0        |\n",
      "|[10.0,1.0,0.0,11193.0,13930.0,0.030681227249089962]|0.0       |0        |\n",
      "|[10.0,1.0,0.0,11193.0,14100.0,0.028081123244929798]|0.0       |0        |\n",
      "|[10.0,1.0,0.0,11193.0,14122.0,0.027561102444097763]|0.0       |0        |\n",
      "|[10.0,1.0,0.0,11193.0,14122.0,0.027561102444097763]|0.0       |0        |\n",
      "|[10.0,1.0,0.0,11193.0,14122.0,0.04784191367654706] |0.0       |1        |\n",
      "|[10.0,1.0,0.0,11193.0,14122.0,0.059282371294851796]|0.0       |1        |\n",
      "|[10.0,1.0,0.0,11193.0,14492.0,0.02860114404576183] |0.0       |0        |\n",
      "|[10.0,1.0,0.0,11193.0,15016.0,0.02704108164326573] |0.0       |0        |\n",
      "|[10.0,1.0,0.0,11193.0,15016.0,0.029121164846593862]|0.0       |0        |\n",
      "|[10.0,1.0,0.0,11193.0,15016.0,0.029641185647425898]|0.0       |0        |\n",
      "|[10.0,1.0,0.0,11193.0,15016.0,0.03016120644825793] |0.0       |0        |\n",
      "|[10.0,1.0,0.0,11278.0,12478.0,0.02860114404576183] |0.0       |1        |\n",
      "|[10.0,1.0,0.0,11278.0,12478.0,0.031201248049921998]|0.0       |0        |\n",
      "|[10.0,1.0,0.0,11278.0,13244.0,0.0452418096723869]  |0.0       |1        |\n",
      "|[10.0,1.0,0.0,11292.0,14869.0,0.031201248049921998]|0.0       |0        |\n",
      "|[10.0,1.0,0.0,11298.0,11193.0,0.029121164846593862]|0.0       |0        |\n",
      "|[10.0,1.0,0.0,11298.0,11193.0,0.04628185127405096] |0.0       |0        |\n",
      "|[10.0,1.0,0.0,11298.0,12478.0,0.027561102444097763]|0.0       |0        |\n",
      "|[10.0,1.0,0.0,11298.0,14869.0,0.0327613104524181]  |0.0       |0        |\n",
      "|[10.0,1.0,0.0,11433.0,10423.0,0.028081123244929798]|0.0       |0        |\n",
      "|[10.0,1.0,0.0,11433.0,10423.0,0.03016120644825793] |0.0       |0        |\n",
      "|[10.0,1.0,0.0,11433.0,10529.0,0.03224128965158606] |0.0       |0        |\n",
      "|[10.0,1.0,0.0,11433.0,10693.0,0.036401456058242326]|0.0       |0        |\n",
      "|[10.0,1.0,0.0,11433.0,10792.0,0.029121164846593862]|0.0       |0        |\n",
      "|[10.0,1.0,0.0,11433.0,10792.0,0.029641185647425898]|0.0       |0        |\n",
      "|[10.0,1.0,0.0,11433.0,10792.0,0.03224128965158606] |0.0       |1        |\n",
      "|[10.0,1.0,0.0,11433.0,11042.0,0.03016120644825793] |0.0       |0        |\n",
      "|[10.0,1.0,0.0,11433.0,11066.0,0.02860114404576183] |0.0       |0        |\n",
      "|[10.0,1.0,0.0,11433.0,11193.0,0.02860114404576183] |0.0       |0        |\n",
      "|[10.0,1.0,0.0,11433.0,11193.0,0.029121164846593862]|0.0       |0        |\n",
      "|[10.0,1.0,0.0,11433.0,11193.0,0.029641185647425898]|0.0       |0        |\n",
      "|[10.0,1.0,0.0,11433.0,11193.0,0.0748829953198128]  |0.0       |1        |\n",
      "|[10.0,1.0,0.0,11433.0,11278.0,0.030681227249089962]|0.0       |0        |\n",
      "|[10.0,1.0,0.0,11433.0,11298.0,0.031201248049921998]|0.0       |0        |\n",
      "|[10.0,1.0,0.0,11433.0,12264.0,0.042641705668226726]|0.0       |1        |\n",
      "|[10.0,1.0,0.0,11433.0,12266.0,0.031721268850754034]|0.0       |1        |\n",
      "|[10.0,1.0,0.0,11433.0,12339.0,0.03016120644825793] |0.0       |0        |\n",
      "|[10.0,1.0,0.0,11433.0,12339.0,0.0405616224648986]  |0.0       |0        |\n",
      "|[10.0,1.0,0.0,11433.0,12451.0,0.04160166406656266] |0.0       |1        |\n",
      "|[10.0,1.0,0.0,11433.0,12478.0,0.031201248049921998]|0.0       |0        |\n",
      "|[10.0,1.0,0.0,11433.0,12478.0,0.12844513780551223] |1.0       |1        |\n",
      "|[10.0,1.0,0.0,11433.0,13232.0,0.029121164846593862]|0.0       |0        |\n",
      "|[10.0,1.0,0.0,11433.0,13244.0,0.031201248049921998]|0.0       |0        |\n",
      "|[10.0,1.0,0.0,11433.0,13244.0,0.0436817472698908]  |0.0       |1        |\n",
      "|[10.0,1.0,0.0,11433.0,13342.0,0.03380135205408216] |0.0       |0        |\n",
      "|[10.0,1.0,0.0,11433.0,13871.0,0.03380135205408216] |0.0       |0        |\n",
      "|[10.0,1.0,0.0,11433.0,13871.0,0.08996359854394176] |1.0       |1        |\n",
      "|[10.0,1.0,0.0,11433.0,13930.0,0.034841393655746226]|0.0       |0        |\n",
      "|[10.0,1.0,0.0,11433.0,13931.0,0.027561102444097763]|0.0       |0        |\n",
      "+---------------------------------------------------+----------+---------+\n",
      "only showing top 100 rows\n",
      "\n"
     ]
    }
   ],
   "source": [
    "prediction = piplineModel.transform(test)\n",
    "predicted = prediction.select(\"features\", \"prediction\", \"trueLabel\")\n",
    "predicted.show(100, truncate=False)"
   ]
  },
  {
   "cell_type": "markdown",
   "metadata": {},
   "source": [
    "Looking into the results, some trueLabel 1s are predicted as 0. Let's evaluate the model."
   ]
  },
  {
   "cell_type": "markdown",
   "metadata": {},
   "source": [
    "## Evaluating a Classification Model\n",
    "We'll calculate a *Confusion Matrix* and the *Area Under ROC* (Receiver Operating Characteristic) to evaluate the model. \n",
    "### Compute Confusion Matrix\n",
    "Classifiers are typically evaluated by creating a *confusion matrix*, which indicates the number of:\n",
    "- True Positives\n",
    "- True Negatives\n",
    "- False Positives\n",
    "- False Negatives\n",
    "\n",
    "From these core measures, other evaluation metrics such as *precision*, *recall* and *F1* can be calculated."
   ]
  },
  {
   "cell_type": "code",
   "execution_count": 8,
   "metadata": {},
   "outputs": [
    {
     "name": "stdout",
     "output_type": "stream",
     "text": [
      "+---------+-------------------+\n",
      "|   metric|              value|\n",
      "+---------+-------------------+\n",
      "|       TP|            18775.0|\n",
      "|       FP|               78.0|\n",
      "|       TN|           649456.0|\n",
      "|       FN|           142655.0|\n",
      "|Precision| 0.9958627274173871|\n",
      "|   Recall|0.11630428049309298|\n",
      "|       F1|0.20828364293915674|\n",
      "+---------+-------------------+\n",
      "\n"
     ]
    }
   ],
   "source": [
    "tp = float(predicted.filter(\"prediction == 1.0 AND truelabel == 1\").count())\n",
    "fp = float(predicted.filter(\"prediction == 1.0 AND truelabel == 0\").count())\n",
    "tn = float(predicted.filter(\"prediction == 0.0 AND truelabel == 0\").count())\n",
    "fn = float(predicted.filter(\"prediction == 0.0 AND truelabel == 1\").count())\n",
    "pr = tp / (tp + fp)\n",
    "re = tp / (tp + fn)\n",
    "metrics = spark.createDataFrame([\n",
    " (\"TP\", tp),\n",
    " (\"FP\", fp),\n",
    " (\"TN\", tn),\n",
    " (\"FN\", fn),\n",
    " (\"Precision\", pr),\n",
    " (\"Recall\", re),\n",
    " (\"F1\", 2*pr*re/(re+pr))],[\"metric\", \"value\"])\n",
    "metrics.show()"
   ]
  },
  {
   "cell_type": "markdown",
   "metadata": {},
   "source": [
    "Looks like we've got a good *Precision*, but a low *Recall*, therefore our *F1* is not that good."
   ]
  },
  {
   "cell_type": "markdown",
   "metadata": {},
   "source": [
    "### Review the Area Under ROC\n",
    "Another way to assess the performance of a classification model is to measure the area under a ROC (Receiver Operating Characteristic) curve for the model. the spark.ml library includes a **BinaryClassificationEvaluator** class that we can use to compute this. The ROC curve shows the True Positive and False Positive rates plotted for varying thresholds."
   ]
  },
  {
   "cell_type": "code",
   "execution_count": 9,
   "metadata": {},
   "outputs": [
    {
     "name": "stdout",
     "output_type": "stream",
     "text": [
      "AUR =  0.9146435967271007\n"
     ]
    }
   ],
   "source": [
    "evaluator = BinaryClassificationEvaluator(labelCol=\"trueLabel\", rawPredictionCol=\"rawPrediction\", metricName=\"areaUnderROC\")\n",
    "aur = evaluator.evaluate(prediction)\n",
    "print (\"AUR = \", aur)"
   ]
  },
  {
   "cell_type": "markdown",
   "metadata": {},
   "source": [
    "So the AUR shows that our model is ok.\n",
    "Let's look deeper."
   ]
  },
  {
   "cell_type": "markdown",
   "metadata": {},
   "source": [
    "### View the Raw Prediction and Probability\n",
    "The prediction is based on a raw prediction score that describes a labelled point in a logistic function. This raw prediction is then converted to a predicted label of 0 or 1 based on a probability vector that indicates the confidence for each possible label value (in this case, 0 and 1). The value with the highest confidence is selected as the prediction."
   ]
  },
  {
   "cell_type": "code",
   "execution_count": 10,
   "metadata": {},
   "outputs": [
    {
     "name": "stdout",
     "output_type": "stream",
     "text": [
      "+--------------------------------------------+----------------------------------------+----------+---------+\n",
      "|rawPrediction                               |probability                             |prediction|trueLabel|\n",
      "+--------------------------------------------+----------------------------------------+----------+---------+\n",
      "|[1.473292576921059,-1.473292576921059]      |[0.8135573257293348,0.18644267427066513]|0.0       |0        |\n",
      "|[1.5172569316340874,-1.5172569316340874]    |[0.8201341946156905,0.17986580538430946]|0.0       |0        |\n",
      "|[1.2260922940257841,-1.2260922940257841]    |[0.7731339025999046,0.22686609740009542]|0.0       |1        |\n",
      "|[1.5495958564520658,-1.5495958564520658]    |[0.8248553532871685,0.1751446467128314] |0.0       |0        |\n",
      "|[1.4822482311243073,-1.4822482311243073]    |[0.8149119225982633,0.18508807740173677]|0.0       |0        |\n",
      "|[0.9045141077776607,-0.9045141077776607]    |[0.7118762690747193,0.28812373092528065]|0.0       |1        |\n",
      "|[1.5105492200628134,-1.5105492200628134]    |[0.8191425869689892,0.18085741303101072]|0.0       |0        |\n",
      "|[-0.9405929587095831,0.9405929587095831]    |[0.2807805832496851,0.7192194167503149] |1.0       |1        |\n",
      "|[1.4751383020773838,-1.4751383020773838]    |[0.813837126638186,0.18616287336181403] |0.0       |0        |\n",
      "|[1.5088684349399106,-1.5088684349399106]    |[0.818893448417381,0.181106551582619]   |0.0       |1        |\n",
      "|[1.4538461374783251,-1.4538461374783251]    |[0.8105896526401167,0.18941034735988319]|0.0       |0        |\n",
      "|[1.357557116920551,-1.357557116920551]      |[0.7953623783408261,0.2046376216591739] |0.0       |1        |\n",
      "|[1.287450902964414,-1.287450902964414]      |[0.7837154155496943,0.21628458445030588]|0.0       |0        |\n",
      "|[1.55524260402634,-1.55524260402634]        |[0.8256696373922824,0.17433036260771767]|0.0       |0        |\n",
      "|[1.3489089885453949,-1.3489089885453949]    |[0.793951203939793,0.20604879606020704] |0.0       |0        |\n",
      "|[0.7908208574109379,-0.7908208574109379]    |[0.6880075574053918,0.3119924425946083] |0.0       |1        |\n",
      "|[-2.070338610591503,2.070338610591503]      |[0.11201335376813772,0.8879866462318623]|1.0       |1        |\n",
      "|[1.6086187291010563,-1.6086187291010563]    |[0.8332195268006366,0.16678047319936345]|0.0       |0        |\n",
      "|[1.553596431639471,-1.553596431639471]      |[0.8254325614673261,0.1745674385326739] |0.0       |1        |\n",
      "|[1.471062985447093,-1.471062985447093]      |[0.8132189008192727,0.18678109918072727]|0.0       |0        |\n",
      "|[1.5221050022972944,-1.5221050022972944]    |[0.8208482437573446,0.17915175624265545]|0.0       |0        |\n",
      "|[1.641777075543418,-1.641777075543418]      |[0.8377765993650355,0.16222340063496454]|0.0       |0        |\n",
      "|[1.6142659268126252,-1.6142659268126252]    |[0.8340028121676468,0.16599718783235318]|0.0       |0        |\n",
      "|[1.5088734905731829,-1.5088734905731829]    |[0.818894198201817,0.1811058017981831]  |0.0       |0        |\n",
      "|[1.6397990118839156,-1.6397990118839156]    |[0.8375075870776109,0.16249241292238908]|0.0       |0        |\n",
      "|[1.0528087858237625,-1.0528087858237625]    |[0.741313898284222,0.25868610171577805] |0.0       |1        |\n",
      "|[0.048651857149829114,-0.048651857149829114]|[0.5121605657072471,0.4878394342927529] |0.0       |1        |\n",
      "|[0.15900796669730322,-0.15900796669730322]  |[0.5396684469974228,0.46033155300257717]|0.0       |1        |\n",
      "|[1.5856074200871393,-1.5856074200871393]    |[0.8299972000421924,0.1700027999578077] |0.0       |0        |\n",
      "|[1.5814793240446958,-1.5814793240446958]    |[0.8294139243170695,0.17058607568293047]|0.0       |0        |\n",
      "|[1.4394270031985963,-1.4394270031985963]    |[0.8083659039185844,0.1916340960814156] |0.0       |0        |\n",
      "|[1.4602777182548574,-1.4602777182548574]    |[0.8115751473941906,0.18842485260580938]|0.0       |0        |\n",
      "|[1.4190109951586685,-1.4190109951586685]    |[0.8051833248288597,0.19481667517114035]|0.0       |0        |\n",
      "|[1.240188528408516,-1.240188528408516]      |[0.7755968286624844,0.22440317133751553]|0.0       |0        |\n",
      "|[1.532750975858331,-1.532750975858331]      |[0.8224084583253157,0.17759154167468422]|0.0       |0        |\n",
      "|[1.5414720862908524,-1.5414720862908524]    |[0.8236786213572178,0.17632137864278213]|0.0       |0        |\n",
      "|[1.4176719170022851,-1.4176719170022851]    |[0.8049731869824516,0.19502681301754843]|0.0       |0        |\n",
      "|[0.6198486038092972,-0.6198486038092972]    |[0.6501841150908615,0.34981588490913845]|0.0       |1        |\n",
      "|[-0.5962307121449302,0.5962307121449302]    |[0.3552065201210289,0.6447934798789711] |1.0       |1        |\n",
      "|[1.5141000137142737,-1.5141000137142737]    |[0.8196680339858599,0.1803319660141401] |0.0       |0        |\n",
      "|[1.5003444393488774,-1.5003444393488774]    |[0.8176258424812655,0.18237415751873456]|0.0       |0        |\n",
      "|[1.4865888649834809,-1.4865888649834809]    |[0.815565727766946,0.18443427223305398] |0.0       |0        |\n",
      "|[1.4728332906180845,-1.4728332906180845]    |[0.8134876503216747,0.1865123496783254] |0.0       |0        |\n",
      "|[0.6130685692846249,-0.6130685692846249]    |[0.6486404660456241,0.3513595339543759] |0.0       |1        |\n",
      "|[1.4839389232516342,-1.4839389232516342]    |[0.8151667947455473,0.18483320525445268]|0.0       |0        |\n",
      "|[1.3042120853614318,-1.3042120853614318]    |[0.7865430166196004,0.21345698338039973]|0.0       |0        |\n",
      "|[0.7593104662637268,-0.7593104662637268]    |[0.681204009834915,0.318795990165085]   |0.0       |1        |\n",
      "|[1.6037588119288173,-1.6037588119288173]    |[0.8325430755136991,0.16745692448630087]|0.0       |0        |\n",
      "|[1.5624920888326281,-1.5624920888326281]    |[0.8267106607186244,0.17328933928137552]|0.0       |0        |\n",
      "|[-1.1886227842466408,1.1886227842466408]    |[0.23350534019376354,0.7664946598062365]|1.0       |1        |\n",
      "|[1.6201293709186773,-1.6201293709186773]    |[0.83481297086735,0.16518702913265002]  |0.0       |0        |\n",
      "|[1.5513514990916955,-1.5513514990916955]    |[0.8251088445839119,0.1748911554160881] |0.0       |0        |\n",
      "|[1.6264115267387138,-1.6264115267387138]    |[0.8356774607141608,0.16432253928583918]|0.0       |0        |\n",
      "|[1.6409800859749386,-1.6409800859749386]    |[0.837668253767142,0.162331746232858]   |0.0       |0        |\n",
      "|[1.6409800859749386,-1.6409800859749386]    |[0.837668253767142,0.162331746232858]   |0.0       |0        |\n",
      "|[1.104512685724481,-1.104512685724481]      |[0.7511046917131804,0.2488953082868196] |0.0       |1        |\n",
      "|[0.8018900496857612,-0.8018900496857612]    |[0.6903786358457074,0.30962136415429264]|0.0       |1        |\n",
      "|[1.6271418646171663,-1.6271418646171663]    |[0.8357777265953398,0.16422227340466014]|0.0       |0        |\n",
      "|[1.687772409182174,-1.687772409182174]      |[0.8439309853319985,0.15606901466800135]|0.0       |0        |\n",
      "|[1.6327501117205885,-1.6327501117205885]    |[0.8365460282987789,0.16345397170122106]|0.0       |0        |\n",
      "|[1.6189945373551922,-1.6189945373551922]    |[0.8346564175406588,0.16534358245934114]|0.0       |0        |\n",
      "|[1.6052389629897958,-1.6052389629897958]    |[0.8327493293675269,0.16725067063247315]|0.0       |0        |\n",
      "|[1.5556588776414815,-1.5556588776414815]    |[0.8257295473970342,0.17427045260296573]|0.0       |1        |\n",
      "|[1.4868810058145,-1.4868810058145]          |[0.815609667034713,0.18439033296528706] |0.0       |0        |\n",
      "|[1.1437871529967276,-1.1437871529967276]    |[0.7583742861351982,0.24162571386480178]|0.0       |1        |\n",
      "|[1.5757222580348973,-1.5757222580348973]    |[0.8285978319595233,0.17140216804047667]|0.0       |0        |\n",
      "|[1.495109850768836,-1.495109850768836]      |[0.8168439948136409,0.1831560051863592] |0.0       |0        |\n",
      "|[1.0411758967107567,-1.0411758967107567]    |[0.7390768324145959,0.26092316758540407]|0.0       |0        |\n",
      "|[1.5838622810929484,-1.5838622810929484]    |[0.8297508158772692,0.1702491841227308] |0.0       |0        |\n",
      "|[1.5346632113549106,-1.5346632113549106]    |[0.8226875734817009,0.17731242651829915]|0.0       |0        |\n",
      "|[1.498839248385191,-1.498839248385191]      |[0.8174012903873723,0.1825987096126277] |0.0       |0        |\n",
      "|[1.4438169509236056,-1.4438169509236056]    |[0.8090450323471308,0.19095496765286918]|0.0       |0        |\n",
      "|[1.392711762385102,-1.392711762385102]      |[0.8010248077047001,0.19897519229529995]|0.0       |0        |\n",
      "|[1.2887276001353782,-1.2887276001353782]    |[0.7839317444346682,0.21606825556533174]|0.0       |0        |\n",
      "|[1.484964073169654,-1.484964073169654]      |[0.8153212040703283,0.18467879592967165]|0.0       |0        |\n",
      "|[1.4712084988042577,-1.4712084988042577]    |[0.8132410024061547,0.1867589975938453] |0.0       |0        |\n",
      "|[1.4024306269772762,-1.4024306269772762]    |[0.8025693090716219,0.19743069092837803]|0.0       |1        |\n",
      "|[1.4666913888800917,-1.4666913888800917]    |[0.8125539724740345,0.18744602752596548]|0.0       |0        |\n",
      "|[1.5088450045626387,-1.5088450045626387]    |[0.8188899735031919,0.18111002649680805]|0.0       |0        |\n",
      "|[1.5135381444987837,-1.5135381444987837]    |[0.819584967860366,0.180415032139634]   |0.0       |0        |\n",
      "|[1.4997825701333873,-1.4997825701333873]    |[0.8175420450612166,0.1824579549387834] |0.0       |0        |\n",
      "|[1.486026995767991,-1.486026995767991]      |[0.8154811973851895,0.18451880261481043]|0.0       |0        |\n",
      "|[0.2892920259785088,-0.2892920259785088]    |[0.5718228003414795,0.42817719965852047]|0.0       |1        |\n",
      "|[1.4616569249472167,-1.4616569249472167]    |[0.8117859663329275,0.1882140336670725] |0.0       |0        |\n",
      "|[1.4486404277371188,-1.4486404277371188]    |[0.8097891063012791,0.1902108936987209] |0.0       |0        |\n",
      "|[1.1817152182993127,-1.1817152182993127]    |[0.7652560644160894,0.23474393558391068]|0.0       |1        |\n",
      "|[1.4706561876881659,-1.4706561876881659]    |[0.8131571028397079,0.1868428971602922] |0.0       |1        |\n",
      "|[1.514620542401194,-1.514620542401194]      |[0.8197449617510609,0.180255038248939]  |0.0       |0        |\n",
      "|[1.2395090550932668,-1.2395090550932668]    |[0.7754785466411794,0.2245214533588205] |0.0       |0        |\n",
      "|[1.2161367384321453,-1.2161367384321453]    |[0.7713829726750955,0.2286170273249045] |0.0       |1        |\n",
      "|[1.4922459798997254,-1.4922459798997254]    |[0.8164151425806002,0.18358485741939976]|0.0       |0        |\n",
      "|[-1.0800464264293919,1.0800464264293919]    |[0.25349723099213345,0.7465027690078666]|1.0       |1        |\n",
      "|[1.575131486116061,-1.575131486116061]      |[0.8285139121960866,0.1714860878039134] |0.0       |0        |\n",
      "|[1.5205526349476546,-1.5205526349476546]    |[0.8206198444825274,0.17938015551747258]|0.0       |0        |\n",
      "|[1.1904188501781423,-1.1904188501781423]    |[0.7668159668802134,0.2331840331197867] |0.0       |1        |\n",
      "|[1.455396241181635,-1.455396241181635]      |[0.8108275317933616,0.1891724682066384] |0.0       |0        |\n",
      "|[1.4749448319392782,-1.4749448319392782]    |[0.8138078129217556,0.18619218707824434]|0.0       |0        |\n",
      "|[-0.010657199523527394,0.010657199523527394]|[0.49733572533552023,0.5026642746644797]|1.0       |1        |\n",
      "|[1.4496139608166159,-1.4496139608166159]    |[0.809939015069533,0.19006098493046697] |0.0       |0        |\n",
      "|[1.6422289557899297,-1.6422289557899297]    |[0.8378380036661902,0.16216199633380984]|0.0       |0        |\n",
      "+--------------------------------------------+----------------------------------------+----------+---------+\n",
      "only showing top 100 rows\n",
      "\n"
     ]
    }
   ],
   "source": [
    "prediction.select(\"rawPrediction\", \"probability\", \"prediction\", \"trueLabel\").show(100, truncate=False)"
   ]
  },
  {
   "cell_type": "markdown",
   "metadata": {},
   "source": [
    "Note that the results include rows where the probability for 0 (the first value in the probability vector) is only slightly higher than the probability for 1 (the second value in the probability vector). The default discrimination threshold (the boundary that decides whether a probability is predicted as a 1 or a 0) is set to 0.5; so the prediction with the highest probability is always used, no matter how close to the threshold.\n",
    "\n",
    "And we can see from the results above that for those *truelabel* 1s that we predicted 0s, many of them the problibilty of 1 is just slightly less than the threshold 0.5."
   ]
  },
  {
   "cell_type": "markdown",
   "metadata": {},
   "source": [
    "## Tune Parameters \n",
    "To find the best performing parameters, we can use the **CrossValidator** class to evaluate each combination of parameters defined in a **ParameterGrid** against multiple *folds* of the data split into training and validation datasets. Note that this can take a long time to run because every parameter combination is tried multiple times."
   ]
  },
  {
   "cell_type": "markdown",
   "metadata": {},
   "source": [
    "### Change the Discrimination Threshold\n",
    "The AUC score seems to indicate a reasonably good model, but the performance metrics seem to indicate that it predicts a high number of *False Negative* labels (i.e. it predicts 0 when the true label is 1), leading to a low *Recall*. We can improve this by lowering the threshold. Conversely, sometimes we may want to address a large number of *False Positive* by raising the threshold. \n",
    "\n",
    "In this case, I'll let the **CrossValidator** find the best threshold from 0.45, 0.4 and 0.35, regularization parameter from 0.3 and 0.1, and the maximum number of iterations allowed from 10 and 5."
   ]
  },
  {
   "cell_type": "code",
   "execution_count": null,
   "metadata": {},
   "outputs": [],
   "source": [
    "paramGrid = ParamGridBuilder().addGrid(lr.regParam, [0.3, 0.1]).addGrid(lr.maxIter, [10, 5]).addGrid(lr.threshold, \n",
    "                                                                                            [0.4, 0.3]).build()\n",
    "cv = CrossValidator(estimator=pipeline, evaluator=BinaryClassificationEvaluator(), estimatorParamMaps=paramGrid, \n",
    "                    numFolds=2)\n",
    "\n",
    "model = cv.fit(train)"
   ]
  },
  {
   "cell_type": "code",
   "execution_count": null,
   "metadata": {},
   "outputs": [],
   "source": [
    "newPrediction = model.transform(test)\n",
    "newPredicted = prediction.select(\"features\", \"prediction\", \"trueLabel\")\n",
    "newPredicted.show()"
   ]
  },
  {
   "cell_type": "markdown",
   "metadata": {},
   "source": [
    "Note that some of the **rawPrediction** and **probability** values that were previously predicted as 0 are now predicted as 1"
   ]
  },
  {
   "cell_type": "code",
   "execution_count": null,
   "metadata": {},
   "outputs": [],
   "source": [
    "# Recalculate confusion matrix\n",
    "tp2 = float(newPrediction.filter(\"prediction == 1.0 AND truelabel == 1\").count())\n",
    "fp2 = float(newPrediction.filter(\"prediction == 1.0 AND truelabel == 0\").count())\n",
    "tn2 = float(newPrediction.filter(\"prediction == 0.0 AND truelabel == 0\").count())\n",
    "fn2 = float(newPrediction.filter(\"prediction == 0.0 AND truelabel == 1\").count())\n",
    "pr2 = tp2 / (tp2 + fp2)\n",
    "re2 = tp2 / (tp2 + fn2)\n",
    "metrics2 = spark.createDataFrame([\n",
    " (\"TP\", tp2),\n",
    " (\"FP\", fp2),\n",
    " (\"TN\", tn2),\n",
    " (\"FN\", fn2),\n",
    " (\"Precision\", pr2),\n",
    " (\"Recall\", re2),\n",
    " (\"F1\", 2*pr2*re2/(re2+pr2))],[\"metric\", \"value\"])\n",
    "metrics2.show()"
   ]
  },
  {
   "cell_type": "code",
   "execution_count": null,
   "metadata": {},
   "outputs": [],
   "source": [
    "# Recalculate the Area Under ROC\n",
    "evaluator2 = BinaryClassificationEvaluator(labelCol=\"trueLabel\", rawPredictionCol=\"prediction\", metricName=\"areaUnderROC\")\n",
    "aur2 = evaluator.evaluate(prediction)\n",
    "print( \"AUR2 = \", aur2)"
   ]
  },
  {
   "cell_type": "markdown",
   "metadata": {},
   "source": [
    "Looks pretty good! The new model improves the *Recall* from 0.11 to 0.37, the *F1* score from 0.20 to 0.54, without compromising other metrics.\n",
    "\n",
    "\n",
    "# Further reading\n",
    "\n",
    "\n",
    "1.Classification and regression [link](https://spark.apache.org/docs/latest/ml-classification-regression.html).\n",
    "\n",
    "2.Advanced data exploration and modeling with Spark [link](https://docs.microsoft.com/en-us/azure/machine-learning/team-data-science-process/spark-advanced-data-exploration-modeling).\n",
    " \n",
    "3.Machine Learning with PySpark [link](https://link.springer.com/book/10.1007%2F978-1-4842-4131-8)\n",
    " \n",
    " \n",
    " \n",
    "# Summary\n",
    "In this tutorial, you discovered how to analyzed unstructure data(text) using Spark. focused on a Python API of pyspark module. \n",
    "\n",
    "Specifically, you learned:\n",
    "\n",
    "* How to Prepare the Data for classification.\n",
    "* How to define the pipeline.\n",
    "* How to generate level predictions.\n",
    "* How to evaluate classification models.\n",
    "* How to Tune Parameters.\n",
    "\n",
    "\n",
    "## Next Step\n",
    "\n",
    "There is still much room to improve the model. For example, I can try more options of lower threshold, or use different classfication models, or prepare data better like adding new features. I'll write another one for this."
   ]
  },
  {
   "cell_type": "code",
   "execution_count": null,
   "metadata": {},
   "outputs": [],
   "source": []
  }
 ],
 "metadata": {
  "kernelspec": {
   "display_name": "Python 3",
   "language": "python",
   "name": "python3"
  },
  "language_info": {
   "codemirror_mode": {
    "name": "ipython",
    "version": 3
   },
   "file_extension": ".py",
   "mimetype": "text/x-python",
   "name": "python",
   "nbconvert_exporter": "python",
   "pygments_lexer": "ipython3",
   "version": "3.7.9"
  }
 },
 "nbformat": 4,
 "nbformat_minor": 1
}
